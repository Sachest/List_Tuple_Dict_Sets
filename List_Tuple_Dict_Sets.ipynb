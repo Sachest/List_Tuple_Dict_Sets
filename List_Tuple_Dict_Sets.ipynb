{
 "cells": [
  {
   "cell_type": "code",
   "execution_count": 1,
   "id": "c121db51",
   "metadata": {},
   "outputs": [
    {
     "name": "stdout",
     "output_type": "stream",
     "text": [
      "['Python', 'Java', 'Programming in C']\n",
      "<class 'list'>\n"
     ]
    }
   ],
   "source": [
    "#list\n",
    "book_list = [\"Python\",\"Java\",\"Programming in C\"]\n",
    "print(book_list)\n",
    "print(type(book_list))"
   ]
  },
  {
   "cell_type": "code",
   "execution_count": 2,
   "id": "2cefc1cb",
   "metadata": {},
   "outputs": [
    {
     "name": "stdout",
     "output_type": "stream",
     "text": [
      "['Python', 'Java', 'Programming in C', 'Ram', 'Sita', 'Raavan', 'Lanka']\n",
      "<class 'list'>\n"
     ]
    }
   ],
   "source": [
    "novels = [\"Ram\",\"Sita\",\"Raavan\",\"Lanka\"]\n",
    "library = book_list + novels\n",
    "print(library)\n",
    "print(type(library))"
   ]
  },
  {
   "cell_type": "code",
   "execution_count": 3,
   "id": "b1060999",
   "metadata": {},
   "outputs": [
    {
     "name": "stdout",
     "output_type": "stream",
     "text": [
      "['Python', 'Java', 'Programming in C', 'Ram', 'Sita', 'Raavan', 'Lanka', 'Ramayan']\n"
     ]
    }
   ],
   "source": [
    "library.append(\"Ramayan\")\n",
    "print(library)"
   ]
  },
  {
   "cell_type": "code",
   "execution_count": 4,
   "id": "5281ed4b",
   "metadata": {},
   "outputs": [
    {
     "name": "stdout",
     "output_type": "stream",
     "text": [
      "['Ramayana', 'Python', 'Java', 'Programming in C', 'Ram', 'Sita', 'Raavan', 'Lanka', 'Ramayan']\n"
     ]
    }
   ],
   "source": [
    "library.insert(0,\"Ramayana\")\n",
    "print(library)"
   ]
  },
  {
   "cell_type": "code",
   "execution_count": 7,
   "id": "a6a1ca4a",
   "metadata": {},
   "outputs": [
    {
     "name": "stdout",
     "output_type": "stream",
     "text": [
      "[120, 140, 170, 210, 340]\n"
     ]
    }
   ],
   "source": [
    "prices = [120,210,140,340,170]\n",
    "prices.sort()\n",
    "print(prices)"
   ]
  },
  {
   "cell_type": "code",
   "execution_count": 8,
   "id": "6ab33132",
   "metadata": {},
   "outputs": [
    {
     "name": "stdout",
     "output_type": "stream",
     "text": [
      "[340, 210, 170, 140, 120]\n"
     ]
    }
   ],
   "source": [
    "prices.sort(reverse=True)\n",
    "print(prices)"
   ]
  },
  {
   "cell_type": "code",
   "execution_count": 9,
   "id": "83ac82f4",
   "metadata": {},
   "outputs": [
    {
     "name": "stdout",
     "output_type": "stream",
     "text": [
      "[1, 3, 4, 23, 6, 11]\n"
     ]
    }
   ],
   "source": [
    "list = [1,3,4,7,6,11]\n",
    "list[3] = 23\n",
    "print(list)"
   ]
  },
  {
   "cell_type": "code",
   "execution_count": 10,
   "id": "e13f9a54",
   "metadata": {},
   "outputs": [
    {
     "name": "stdout",
     "output_type": "stream",
     "text": [
      "(1, 2, 4.6, 7.779, 'hello')\n",
      "<class 'tuple'>\n"
     ]
    }
   ],
   "source": [
    "#Tuples\n",
    "tup = (1,2,4.6,7.779,\"hello\")\n",
    "print(tup)\n",
    "print(type(tup))"
   ]
  },
  {
   "cell_type": "code",
   "execution_count": 13,
   "id": "0915149e",
   "metadata": {},
   "outputs": [
    {
     "ename": "AttributeError",
     "evalue": "'tuple' object has no attribute 'sort'",
     "output_type": "error",
     "traceback": [
      "\u001b[1;31m---------------------------------------------------------------------------\u001b[0m",
      "\u001b[1;31mAttributeError\u001b[0m                            Traceback (most recent call last)",
      "Cell \u001b[1;32mIn[13], line 1\u001b[0m\n\u001b[1;32m----> 1\u001b[0m tup\u001b[38;5;241m.\u001b[39msort()\n\u001b[0;32m      2\u001b[0m \u001b[38;5;28mprint\u001b[39m(tup)\n",
      "\u001b[1;31mAttributeError\u001b[0m: 'tuple' object has no attribute 'sort'"
     ]
    }
   ],
   "source": [
    "tup.sort()\n",
    "print(tup)"
   ]
  },
  {
   "cell_type": "code",
   "execution_count": 12,
   "id": "ca52bd03",
   "metadata": {},
   "outputs": [
    {
     "ename": "SyntaxError",
     "evalue": "cannot assign to function call here. Maybe you meant '==' instead of '='? (156001496.py, line 1)",
     "output_type": "error",
     "traceback": [
      "\u001b[1;36m  Cell \u001b[1;32mIn[12], line 1\u001b[1;36m\u001b[0m\n\u001b[1;33m    tup(3) = 2.476\u001b[0m\n\u001b[1;37m    ^\u001b[0m\n\u001b[1;31mSyntaxError\u001b[0m\u001b[1;31m:\u001b[0m cannot assign to function call here. Maybe you meant '==' instead of '='?\n"
     ]
    }
   ],
   "source": [
    "tup(3) = 2.476\n",
    "print(tup)"
   ]
  },
  {
   "cell_type": "code",
   "execution_count": 17,
   "id": "572bcab5",
   "metadata": {},
   "outputs": [
    {
     "name": "stdout",
     "output_type": "stream",
     "text": [
      "{'name': 'xyz', 'hobbies': 'creativity', 'rollnumber': 7}\n"
     ]
    }
   ],
   "source": [
    "#dictionary\n",
    "dict = {\"name\":\"xyz\",\"hobbies\":\"creativity\",\"rollnumber\":7}\n",
    "print(dict)"
   ]
  },
  {
   "cell_type": "code",
   "execution_count": 18,
   "id": "b4820a04",
   "metadata": {},
   "outputs": [
    {
     "name": "stdout",
     "output_type": "stream",
     "text": [
      "dict_keys(['name', 'hobbies', 'rollnumber'])\n"
     ]
    }
   ],
   "source": [
    "print(dict.keys())"
   ]
  },
  {
   "cell_type": "code",
   "execution_count": 19,
   "id": "6461a94f",
   "metadata": {},
   "outputs": [
    {
     "name": "stdout",
     "output_type": "stream",
     "text": [
      "dict_values(['xyz', 'creativity', 7])\n"
     ]
    }
   ],
   "source": [
    "print(dict.values())"
   ]
  },
  {
   "cell_type": "code",
   "execution_count": 20,
   "id": "7f67eec4",
   "metadata": {},
   "outputs": [
    {
     "name": "stdout",
     "output_type": "stream",
     "text": [
      "{'name': 'xyz', 'hobbies': 'painting', 'rollnumber': 7}\n"
     ]
    }
   ],
   "source": [
    "dict['hobbies'] = 'painting'\n",
    "print(dict)"
   ]
  },
  {
   "cell_type": "code",
   "execution_count": 21,
   "id": "fb124bf0",
   "metadata": {},
   "outputs": [
    {
     "name": "stdout",
     "output_type": "stream",
     "text": [
      "{'name': 'xyz', 'hobbies': 'painting'}\n"
     ]
    }
   ],
   "source": [
    "del dict ['rollnumber']\n",
    "print(dict)"
   ]
  },
  {
   "cell_type": "code",
   "execution_count": 22,
   "id": "1c0eece4",
   "metadata": {},
   "outputs": [
    {
     "name": "stdout",
     "output_type": "stream",
     "text": [
      "{'name': 'xyz', 'hobbies': 'painting', 'economy': 'middleclass'}\n"
     ]
    }
   ],
   "source": [
    "dict.update({'economy':\"middleclass\"})\n",
    "print(dict)"
   ]
  },
  {
   "cell_type": "code",
   "execution_count": 24,
   "id": "7a36f7b7",
   "metadata": {},
   "outputs": [
    {
     "name": "stdout",
     "output_type": "stream",
     "text": [
      "3\n"
     ]
    }
   ],
   "source": [
    "print(len(dict))"
   ]
  },
  {
   "cell_type": "code",
   "execution_count": 25,
   "id": "cc148ca2",
   "metadata": {},
   "outputs": [
    {
     "name": "stdout",
     "output_type": "stream",
     "text": [
      "<class 'dict'>\n"
     ]
    }
   ],
   "source": [
    "print(type(dict))"
   ]
  },
  {
   "cell_type": "code",
   "execution_count": 26,
   "id": "2c2fd31c",
   "metadata": {},
   "outputs": [
    {
     "name": "stdout",
     "output_type": "stream",
     "text": [
      "{1, 2, 3, 6, 7, 13.69, 'xyz', 'pqrs', 22, 119, 22.94, 476}\n"
     ]
    }
   ],
   "source": [
    "#sets\n",
    "set = {1,2,3,1,2,7,6,22,119,476,22.94,13.69,\"xyz\",\"pqrs\"}\n",
    "print(set)"
   ]
  },
  {
   "cell_type": "code",
   "execution_count": 27,
   "id": "8bf5442f",
   "metadata": {},
   "outputs": [
    {
     "name": "stdout",
     "output_type": "stream",
     "text": [
      "{1, 2, 3, 6, 7, 13.69, 'xyz', 276.669, 'pqrs', 22, 119, 22.94, 476}\n"
     ]
    }
   ],
   "source": [
    "set.add(276.669)\n",
    "print(set)"
   ]
  },
  {
   "cell_type": "code",
   "execution_count": 28,
   "id": "63baa6ef",
   "metadata": {},
   "outputs": [
    {
     "name": "stdout",
     "output_type": "stream",
     "text": [
      "{1, 2, 3, 6, 7, 13.69, 'xyz', 276.669, 'pqrs', 22, 119, 22.94}\n"
     ]
    }
   ],
   "source": [
    "set.remove(476)\n",
    "print(set)"
   ]
  },
  {
   "cell_type": "code",
   "execution_count": null,
   "id": "4f25d3bd",
   "metadata": {},
   "outputs": [],
   "source": []
  }
 ],
 "metadata": {
  "kernelspec": {
   "display_name": "Python 3 (ipykernel)",
   "language": "python",
   "name": "python3"
  },
  "language_info": {
   "codemirror_mode": {
    "name": "ipython",
    "version": 3
   },
   "file_extension": ".py",
   "mimetype": "text/x-python",
   "name": "python",
   "nbconvert_exporter": "python",
   "pygments_lexer": "ipython3",
   "version": "3.11.4"
  }
 },
 "nbformat": 4,
 "nbformat_minor": 5
}
